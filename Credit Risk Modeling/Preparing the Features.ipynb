{
 "cells": [
  {
   "cell_type": "code",
   "execution_count": 1,
   "metadata": {
    "collapsed": true
   },
   "outputs": [],
   "source": [
    "import pandas as pd"
   ]
  },
  {
   "cell_type": "markdown",
   "metadata": {},
   "source": [
    "Importing data that was the result of the Data Cleaning Python script. This script focuses on preparing the data for machine learning by focusing on handling missing values, converting categorical columns to numeric columns, and removing any other extraneous columns we encounter throughout this process."
   ]
  },
  {
   "cell_type": "code",
   "execution_count": 2,
   "metadata": {
    "collapsed": true
   },
   "outputs": [],
   "source": [
    "loans= pd.read_csv(\"data/filtered_loans_2007.csv\")"
   ]
  },
  {
   "cell_type": "code",
   "execution_count": 3,
   "metadata": {},
   "outputs": [
    {
     "data": {
      "text/plain": [
       "(39786, 25)"
      ]
     },
     "execution_count": 3,
     "metadata": {},
     "output_type": "execute_result"
    }
   ],
   "source": [
    "loans.shape"
   ]
  },
  {
   "cell_type": "code",
   "execution_count": 4,
   "metadata": {},
   "outputs": [
    {
     "name": "stdout",
     "output_type": "stream",
     "text": [
      "Unnamed: 0                 0\n",
      "loan_amnt                  0\n",
      "term                       0\n",
      "int_rate                   0\n",
      "installment                0\n",
      "emp_length              1078\n",
      "home_ownership             0\n",
      "annual_inc                 0\n",
      "verification_status        0\n",
      "loan_status                0\n",
      "purpose                    0\n",
      "title                     11\n",
      "addr_state                 0\n",
      "dti                        0\n",
      "delinq_2yrs                0\n",
      "earliest_cr_line           0\n",
      "inq_last_6mths             0\n",
      "open_acc                   0\n",
      "pub_rec                    0\n",
      "revol_bal                  0\n",
      "revol_util                50\n",
      "total_acc                  0\n",
      "last_credit_pull_d         2\n",
      "pub_rec_bankruptcies     697\n",
      "debt_settlement_flag       0\n",
      "dtype: int64\n"
     ]
    }
   ],
   "source": [
    "# Checking to see number of missing values for all columns\n",
    "null_counts= loans.isnull().sum()\n",
    "print(null_counts)"
   ]
  },
  {
   "cell_type": "markdown",
   "metadata": {},
   "source": [
    "We'll remove all the columns with more than 1% missing data (Except the emp_length columns because that is a relevant column) and for the rest, we will only delete the rows with missing values."
   ]
  },
  {
   "cell_type": "code",
   "execution_count": 5,
   "metadata": {},
   "outputs": [
    {
     "name": "stdout",
     "output_type": "stream",
     "text": [
      "object     12\n",
      "float64    10\n",
      "int64       2\n",
      "dtype: int64\n"
     ]
    }
   ],
   "source": [
    "loans= loans.drop([\"pub_rec_bankruptcies\"], axis=1)\n",
    "loans= loans.dropna(axis=0)\n",
    "print(loans.dtypes.value_counts())"
   ]
  },
  {
   "cell_type": "code",
   "execution_count": 6,
   "metadata": {},
   "outputs": [
    {
     "data": {
      "text/html": [
       "<div>\n",
       "<style scoped>\n",
       "    .dataframe tbody tr th:only-of-type {\n",
       "        vertical-align: middle;\n",
       "    }\n",
       "\n",
       "    .dataframe tbody tr th {\n",
       "        vertical-align: top;\n",
       "    }\n",
       "\n",
       "    .dataframe thead th {\n",
       "        text-align: right;\n",
       "    }\n",
       "</style>\n",
       "<table border=\"1\" class=\"dataframe\">\n",
       "  <thead>\n",
       "    <tr style=\"text-align: right;\">\n",
       "      <th></th>\n",
       "      <th>term</th>\n",
       "      <th>int_rate</th>\n",
       "      <th>emp_length</th>\n",
       "      <th>home_ownership</th>\n",
       "      <th>verification_status</th>\n",
       "      <th>purpose</th>\n",
       "      <th>title</th>\n",
       "      <th>addr_state</th>\n",
       "      <th>earliest_cr_line</th>\n",
       "      <th>revol_util</th>\n",
       "      <th>last_credit_pull_d</th>\n",
       "      <th>debt_settlement_flag</th>\n",
       "    </tr>\n",
       "  </thead>\n",
       "  <tbody>\n",
       "    <tr>\n",
       "      <th>0</th>\n",
       "      <td>36 months</td>\n",
       "      <td>10.65%</td>\n",
       "      <td>10+ years</td>\n",
       "      <td>RENT</td>\n",
       "      <td>Verified</td>\n",
       "      <td>credit_card</td>\n",
       "      <td>Computer</td>\n",
       "      <td>AZ</td>\n",
       "      <td>Jan-1985</td>\n",
       "      <td>83.7%</td>\n",
       "      <td>Apr-2018</td>\n",
       "      <td>N</td>\n",
       "    </tr>\n",
       "    <tr>\n",
       "      <th>1</th>\n",
       "      <td>60 months</td>\n",
       "      <td>15.27%</td>\n",
       "      <td>&lt; 1 year</td>\n",
       "      <td>RENT</td>\n",
       "      <td>Source Verified</td>\n",
       "      <td>car</td>\n",
       "      <td>bike</td>\n",
       "      <td>GA</td>\n",
       "      <td>Apr-1999</td>\n",
       "      <td>9.4%</td>\n",
       "      <td>Oct-2016</td>\n",
       "      <td>N</td>\n",
       "    </tr>\n",
       "    <tr>\n",
       "      <th>2</th>\n",
       "      <td>36 months</td>\n",
       "      <td>15.96%</td>\n",
       "      <td>10+ years</td>\n",
       "      <td>RENT</td>\n",
       "      <td>Not Verified</td>\n",
       "      <td>small_business</td>\n",
       "      <td>real estate business</td>\n",
       "      <td>IL</td>\n",
       "      <td>Nov-2001</td>\n",
       "      <td>98.5%</td>\n",
       "      <td>Jun-2017</td>\n",
       "      <td>N</td>\n",
       "    </tr>\n",
       "    <tr>\n",
       "      <th>3</th>\n",
       "      <td>36 months</td>\n",
       "      <td>13.49%</td>\n",
       "      <td>10+ years</td>\n",
       "      <td>RENT</td>\n",
       "      <td>Source Verified</td>\n",
       "      <td>other</td>\n",
       "      <td>personel</td>\n",
       "      <td>CA</td>\n",
       "      <td>Feb-1996</td>\n",
       "      <td>21%</td>\n",
       "      <td>Apr-2016</td>\n",
       "      <td>N</td>\n",
       "    </tr>\n",
       "    <tr>\n",
       "      <th>4</th>\n",
       "      <td>60 months</td>\n",
       "      <td>12.69%</td>\n",
       "      <td>1 year</td>\n",
       "      <td>RENT</td>\n",
       "      <td>Source Verified</td>\n",
       "      <td>other</td>\n",
       "      <td>Personal</td>\n",
       "      <td>OR</td>\n",
       "      <td>Jan-1996</td>\n",
       "      <td>53.9%</td>\n",
       "      <td>Apr-2018</td>\n",
       "      <td>N</td>\n",
       "    </tr>\n",
       "  </tbody>\n",
       "</table>\n",
       "</div>"
      ],
      "text/plain": [
       "         term int_rate emp_length home_ownership verification_status  \\\n",
       "0   36 months   10.65%  10+ years           RENT            Verified   \n",
       "1   60 months   15.27%   < 1 year           RENT     Source Verified   \n",
       "2   36 months   15.96%  10+ years           RENT        Not Verified   \n",
       "3   36 months   13.49%  10+ years           RENT     Source Verified   \n",
       "4   60 months   12.69%     1 year           RENT     Source Verified   \n",
       "\n",
       "          purpose                 title addr_state earliest_cr_line  \\\n",
       "0     credit_card              Computer         AZ         Jan-1985   \n",
       "1             car                  bike         GA         Apr-1999   \n",
       "2  small_business  real estate business         IL         Nov-2001   \n",
       "3           other              personel         CA         Feb-1996   \n",
       "4           other              Personal         OR         Jan-1996   \n",
       "\n",
       "  revol_util last_credit_pull_d debt_settlement_flag  \n",
       "0      83.7%           Apr-2018                    N  \n",
       "1       9.4%           Oct-2016                    N  \n",
       "2      98.5%           Jun-2017                    N  \n",
       "3        21%           Apr-2016                    N  \n",
       "4      53.9%           Apr-2018                    N  "
      ]
     },
     "execution_count": 6,
     "metadata": {},
     "output_type": "execute_result"
    }
   ],
   "source": [
    "# Exploring all the columns of object datatype\n",
    "object_columns_df= loans.select_dtypes(include=['object'])\n",
    "object_columns_df.head()"
   ]
  },
  {
   "cell_type": "markdown",
   "metadata": {},
   "source": [
    "Following could be some the changes to be made for  preparing these  columns for modeling:\n",
    "- The int_rate and revol_util have percentage signs. And for the latter one, this rate or the amount of credit the borrower is using relative to all available credit. [More info.](http://blog.credit.com/2013/04/what-is-revolving-utilization-65530/)\n",
    "- The earliest_cr_line and last_credit_pull_d, are dates and require a lot of preparation. However, since these are not very relevant to our model, we can remove them.\n",
    "- Fro the rest of the columns, we can check if come of them are categorical and can be converted to that type."
   ]
  },
  {
   "cell_type": "code",
   "execution_count": 7,
   "metadata": {},
   "outputs": [
    {
     "name": "stdout",
     "output_type": "stream",
     "text": [
      "RENT        18471\n",
      "MORTGAGE    17242\n",
      "OWN          2837\n",
      "OTHER          96\n",
      "NONE            3\n",
      "Name: home_ownership, dtype: int64\n",
      "Not Verified       16468\n",
      "Verified           12377\n",
      "Source Verified     9804\n",
      "Name: verification_status, dtype: int64\n",
      "10+ years    8897\n",
      "< 1 year     4576\n",
      "2 years      4389\n",
      "3 years      4094\n",
      "4 years      3435\n",
      "5 years      3279\n",
      "1 year       3240\n",
      "6 years      2227\n",
      "7 years      1771\n",
      "8 years      1483\n",
      "9 years      1258\n",
      "Name: emp_length, dtype: int64\n",
      " 36 months    28234\n",
      " 60 months    10415\n",
      "Name: term, dtype: int64\n",
      "CA    6907\n",
      "NY    3711\n",
      "FL    2779\n",
      "TX    2674\n",
      "NJ    1825\n",
      "IL    1487\n",
      "PA    1481\n",
      "VA    1378\n",
      "GA    1358\n",
      "MA    1313\n",
      "OH    1190\n",
      "MD    1034\n",
      "AZ     832\n",
      "WA     807\n",
      "CO     769\n",
      "NC     761\n",
      "CT     734\n",
      "MI     688\n",
      "MO     661\n",
      "MN     591\n",
      "NV     482\n",
      "SC     464\n",
      "WI     445\n",
      "OR     436\n",
      "AL     433\n",
      "LA     426\n",
      "KY     323\n",
      "OK     293\n",
      "KS     260\n",
      "UT     253\n",
      "AR     235\n",
      "DC     212\n",
      "RI     197\n",
      "NM     184\n",
      "HI     169\n",
      "WV     168\n",
      "NH     162\n",
      "DE     110\n",
      "AK      79\n",
      "MT      79\n",
      "WY      79\n",
      "SD      62\n",
      "VT      54\n",
      "MS      19\n",
      "TN      17\n",
      "IN       9\n",
      "ID       6\n",
      "IA       5\n",
      "NE       5\n",
      "ME       3\n",
      "Name: addr_state, dtype: int64\n"
     ]
    }
   ],
   "source": [
    "cols = ['home_ownership', 'verification_status', 'emp_length', 'term', 'addr_state']\n",
    "\n",
    "for each in cols:\n",
    "    print(loans[each].value_counts())"
   ]
  },
  {
   "cell_type": "code",
   "execution_count": 8,
   "metadata": {},
   "outputs": [
    {
     "name": "stdout",
     "output_type": "stream",
     "text": [
      "debt_consolidation    18262\n",
      "credit_card            5004\n",
      "other                  3824\n",
      "home_improvement       2884\n",
      "major_purchase         2109\n",
      "small_business         1783\n",
      "car                    1497\n",
      "wedding                 934\n",
      "medical                 668\n",
      "moving                  557\n",
      "house                   369\n",
      "vacation                351\n",
      "educational             312\n",
      "renewable_energy         95\n",
      "Name: purpose, dtype: int64\n",
      "Debt Consolidation                             2149\n",
      "Debt Consolidation Loan                        1695\n",
      "Personal Loan                                   643\n",
      "Consolidation                                   510\n",
      "debt consolidation                              489\n",
      "Credit Card Consolidation                       349\n",
      "Home Improvement                                347\n",
      "Debt consolidation                              324\n",
      "Small Business Loan                             317\n",
      "Credit Card Loan                                308\n",
      "Personal                                        297\n",
      "Consolidation Loan                              255\n",
      "Home Improvement Loan                           240\n",
      "personal loan                                   224\n",
      "Loan                                            207\n",
      "personal                                        207\n",
      "Wedding Loan                                    207\n",
      "consolidation                                   198\n",
      "Car Loan                                        197\n",
      "Other Loan                                      179\n",
      "Wedding                                         153\n",
      "Credit Card Payoff                              149\n",
      "Credit Card Refinance                           141\n",
      "Major Purchase Loan                             137\n",
      "Consolidate                                     126\n",
      "Medical                                         114\n",
      "Credit Card                                     114\n",
      "home improvement                                106\n",
      "Credit Cards                                     93\n",
      "My Loan                                          92\n",
      "                                               ... \n",
      "Personal Bridge loan                              1\n",
      "wanting a better solution than a bank loan        1\n",
      "freedom at a cost                                 1\n",
      "Investment in Daughter's Future                   1\n",
      "Erradicate my DEBT !!!                            1\n",
      "Staying responsible for my finances in 2010       1\n",
      "Monthly Save                                      1\n",
      "Stable road to being debt free...                 1\n",
      "Consolodating Student Loans                       1\n",
      "small business investment                         1\n",
      "Final Credit Card Payoff                          1\n",
      "EOY 2011 Medical Surprise                         1\n",
      "STEM CELLS                                        1\n",
      "Kyle's Loan                                       1\n",
      "Business savvy: Insurance Premiums                1\n",
      "Garage addition loan                              1\n",
      "RonsLoan                                          1\n",
      "Brad's Personal Loan                              1\n",
      "CARLOS                                            1\n",
      "IBE Fund                                          1\n",
      "Property Downpayment Help                         1\n",
      "MYSTIC LOAN                                       1\n",
      "Car                                               1\n",
      "bank of america                                   1\n",
      "Boston Loan                                       1\n",
      "Help me make my life easier :)                    1\n",
      "start funding                                     1\n",
      "Better Future                                     1\n",
      "Back on Feet                                      1\n",
      "Consolidate/Reduce Credit Card Payments           1\n",
      "Name: title, Length: 19144, dtype: int64\n"
     ]
    }
   ],
   "source": [
    "print(loans[\"purpose\"].value_counts())\n",
    "print(loans[\"title\"].value_counts())"
   ]
  },
  {
   "cell_type": "markdown",
   "metadata": {},
   "source": [
    "- It seems like the purpose and title columns do contain overlapping information but we'll keep the purpose column since it contains a few discrete values. In addition, the title column has data quality issues since many of the values are repeated with slight modifications (e.g. Debt Consolidation and Debt Consolidation Loan and debt consolidation).\n",
    "- Adding dummy variables for the addr_state column will make the dataset unnecessarily complex, so let's get rid of it.\n",
    "- We can use mapping fot hte emp_length column. Things to assume here are that people with 10+ years of experience could just have exactly 10 years of it; We are considering <1 and n/a as the same.\n"
   ]
  },
  {
   "cell_type": "code",
   "execution_count": 9,
   "metadata": {
    "collapsed": true
   },
   "outputs": [],
   "source": [
    "remove_cols= [\"last_credit_pull_d\", \"addr_state\", \"title\", \"earliest_cr_line\"]\n",
    "loans= loans.drop(remove_cols, axis=1)\n",
    "\n",
    "def prepare_rates(x):\n",
    "    xstrip= x.rstrip('%')\n",
    "    xstrip= float(xstrip)\n",
    "    return xstrip\n",
    "\n",
    "loans[\"int_rate\"]= loans[\"int_rate\"].apply(prepare_rates)\n",
    "loans[\"revol_util\"]= loans[\"revol_util\"].apply(prepare_rates)\n",
    "    \n",
    "    \n",
    "mapping_dict = {\n",
    "    \"emp_length\": {\n",
    "        \"10+ years\": 10,\n",
    "        \"9 years\": 9,\n",
    "        \"8 years\": 8,\n",
    "        \"7 years\": 7,\n",
    "        \"6 years\": 6,\n",
    "        \"5 years\": 5,\n",
    "        \"4 years\": 4,\n",
    "        \"3 years\": 3,\n",
    "        \"2 years\": 2,\n",
    "        \"1 year\": 1,\n",
    "        \"< 1 year\": 0,\n",
    "        \"n/a\": 0\n",
    "    }\n",
    "}\n",
    "\n",
    "loans= loans.replace(mapping_dict)"
   ]
  },
  {
   "cell_type": "code",
   "execution_count": 10,
   "metadata": {
    "collapsed": true
   },
   "outputs": [],
   "source": [
    "cols_to_encode= [\"home_ownership\", \"verification_status\", \"purpose\", \"term\"]\n",
    "\n",
    "dummy_df= pd.get_dummies(loans[cols_to_encode])\n",
    "loans= pd.concat([loans, dummy_df], axis=1)\n",
    "loans= loans.drop(cols_to_encode, axis=1)"
   ]
  },
  {
   "cell_type": "code",
   "execution_count": 11,
   "metadata": {
    "collapsed": true
   },
   "outputs": [],
   "source": [
    "loans= loans.drop([\"debt_settlement_flag\"], axis=1)"
   ]
  },
  {
   "cell_type": "code",
   "execution_count": 12,
   "metadata": {
    "collapsed": true
   },
   "outputs": [],
   "source": [
    "loans.to_csv(\"data/cleaned_loans_2007.csv\")"
   ]
  }
 ],
 "metadata": {
  "kernelspec": {
   "display_name": "Python 3",
   "language": "python",
   "name": "python3"
  },
  "language_info": {
   "codemirror_mode": {
    "name": "ipython",
    "version": 3
   },
   "file_extension": ".py",
   "mimetype": "text/x-python",
   "name": "python",
   "nbconvert_exporter": "python",
   "pygments_lexer": "ipython3",
   "version": "3.6.1"
  }
 },
 "nbformat": 4,
 "nbformat_minor": 2
}
